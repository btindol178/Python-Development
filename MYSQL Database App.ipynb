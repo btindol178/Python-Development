{
 "cells": [
  {
   "cell_type": "markdown",
   "metadata": {},
   "source": [
    "# Connect To MYSQL"
   ]
  },
  {
   "cell_type": "code",
   "execution_count": 14,
   "metadata": {},
   "outputs": [],
   "source": [
    "## in terminal pip install mysql-connector\n",
    "#pip install --upgrade pip\n",
    "#pip install mysqlclient\n",
    "\n",
    "# in beggining run line 5 and 6 first\n",
    "#from pip._internal import main\n",
    "#main(['install','mysql-connector-python-rf'])\n",
    "import mysql.connector\n",
    "mydb2 = mysql.connector.connect(host=\"localhost\", user=\"root\", passwd=\"very_strong_password\",database = \"megacourse\", auth_plugin='mysql_native_password')\n",
    "mycursor =mydb2.cursor()"
   ]
  },
  {
   "cell_type": "code",
   "execution_count": 27,
   "metadata": {},
   "outputs": [
    {
     "name": "stdout",
     "output_type": "stream",
     "text": [
      "Enter a word: accident\n",
      " destroyed\n",
      "No results found\n"
     ]
    }
   ],
   "source": [
    "# look up accident\n",
    "word = input(\"Enter a word: \")\n",
    "# top one shows top 3\n",
    "#mycursor.execute(\"SELECT * FROM dictionary2 LIMIT 10;\")\n",
    "#mycursor.execute(\"SELECT * FROM dictionary2 WHERE Expression = 69;\") # finds where the word is 69\n",
    "mycursor.execute(\"SELECT * FROM dictionary2 WHERE Expression = '%s' \" % word)\n",
    "\n",
    "results = mycursor.fetchall()\n",
    "#print(results) # not good format\n",
    "\n",
    "# better output\n",
    "for i in results:\n",
    "#if len(results) > 0: \n",
    "    print(i[1]) # for each iteration in results give the second part of tuple the definition\n",
    "else:\n",
    "    print(\"No results found\")"
   ]
  },
  {
   "cell_type": "code",
   "execution_count": null,
   "metadata": {},
   "outputs": [],
   "source": []
  },
  {
   "cell_type": "code",
   "execution_count": null,
   "metadata": {},
   "outputs": [],
   "source": []
  }
 ],
 "metadata": {
  "kernelspec": {
   "display_name": "Python 3",
   "language": "python",
   "name": "python3"
  },
  "language_info": {
   "codemirror_mode": {
    "name": "ipython",
    "version": 3
   },
   "file_extension": ".py",
   "mimetype": "text/x-python",
   "name": "python",
   "nbconvert_exporter": "python",
   "pygments_lexer": "ipython3",
   "version": "3.8.3"
  }
 },
 "nbformat": 4,
 "nbformat_minor": 4
}
