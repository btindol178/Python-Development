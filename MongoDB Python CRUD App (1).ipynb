{
 "cells": [
  {
   "cell_type": "code",
   "execution_count": 1,
   "metadata": {},
   "outputs": [],
   "source": [
    "# Getting MangoClient (MangoClient is MongoDB) Driver that allows application to be connected with the MongoDB\n",
    "from pymongo import MongoClient\n",
    "from ipykernel import kernelapp as app\n"
   ]
  },
  {
   "cell_type": "code",
   "execution_count": 2,
   "metadata": {},
   "outputs": [],
   "source": [
    "# Connect to MongoDB. Establishing connection using MongoClient\n",
    "conn = MongoClient('141.218.104.41',27017)"
   ]
  },
  {
   "cell_type": "code",
   "execution_count": 3,
   "metadata": {},
   "outputs": [],
   "source": [
    "# Access the razidb database and the employee collection. \n",
    "# Do not forget to change razidb to yourname\n",
    "db = conn.tindoldb.employee\n"
   ]
  },
  {
   "cell_type": "code",
   "execution_count": 12,
   "metadata": {},
   "outputs": [
    {
     "name": "stdout",
     "output_type": "stream",
     "text": [
      "Enter employee name, address, id(comma separated): Lisa Brown, 345 Main St, EMP 56\n"
     ]
    },
    {
     "name": "stderr",
     "output_type": "stream",
     "text": [
      "C:\\ProgramData\\Anaconda3\\lib\\site-packages\\ipykernel_launcher.py:15: DeprecationWarning: insert is deprecated. Use insert_one or insert_many instead.\n",
      "  from ipykernel import kernelapp as app\n"
     ]
    },
    {
     "name": "stdout",
     "output_type": "stream",
     "text": [
      "Enter another record? n\n",
      "\n",
      "===========================\n",
      "Muhammand Razi,  123 Razi Avenue,  EMP34\n",
      "Mike Ownby,  555 Broad St,  EMP16\n",
      "Lisa Brown,  345 Main St,  EMP 56\n",
      "\n"
     ]
    }
   ],
   "source": [
    "# CREATE Operation\n",
    "# Create a dictionary to hold empoloyee details. \n",
    "# create dictionary. \n",
    "employee_rec = {}\n",
    "\n",
    "# set flag variable\n",
    "flag = True\n",
    "\n",
    "# loop for data input\n",
    "while (flag):\n",
    "    emp_name,emp_addr,emp_id = input(\"Enter employee name, address, id(comma separated): \").split(\",\")\n",
    "    #place values in dictionary\n",
    "    employee_rec = {'name':emp_name,'address':emp_addr,'id':emp_id}\n",
    "    #insert the record\n",
    "    db.insert(employee_rec)\n",
    "    #Ask from user if he wants to continue to insert more documents?\n",
    "    flag = input('Enter another record? ')\n",
    "    if(flag[0].upper() == 'N'):\n",
    "        flag = False\n",
    "\n",
    "# READ Operation\n",
    "# find all documents\n",
    "ret = db.find()\n",
    "print()\n",
    "print(\"===========================\")\n",
    "    \n",
    "# Display documents from collection.\n",
    "for record in ret:\n",
    "    #print out the document\n",
    "    print(record['name'] + ',',record['address'] + \",\",record['id'])\n",
    "print()"
   ]
  },
  {
   "cell_type": "markdown",
   "metadata": {},
   "source": [
    "# Check your Database"
   ]
  },
  {
   "cell_type": "code",
   "execution_count": 11,
   "metadata": {},
   "outputs": [
    {
     "name": "stdout",
     "output_type": "stream",
     "text": [
      "\n",
      "===========================\n",
      "Muhammand Razi,  123 Razi Avenue,  EMP34\n",
      "Mike Ownby,  555 Broad St,  EMP16\n",
      "\n"
     ]
    }
   ],
   "source": [
    "# READ Operation\n",
    "# find all documents\n",
    "ret = db.find()\n",
    "print()\n",
    "print(\"===========================\")\n",
    "    \n",
    "# Display documents from collection.\n",
    "for record in ret:\n",
    "    #print out the document\n",
    "    print(record['name'] + ',',record['address'] + \",\",record['id'])\n",
    "print()"
   ]
  },
  {
   "cell_type": "code",
   "execution_count": 13,
   "metadata": {},
   "outputs": [
    {
     "name": "stdout",
     "output_type": "stream",
     "text": [
      "Enter employee name that you entered before to update the address: Mike Ownby\n",
      "Enter new employee address: 8900 Nowhere Ave\n"
     ]
    }
   ],
   "source": [
    "# READ Operation \n",
    "#Update a document\n",
    "#ask for input\n",
    "emp_name = input(\"Enter employee name that you entered before to update the address: \")\n",
    "emp_address = input(\"Enter new employee address: \")\n",
    "ret = db.update_one(\n",
    "    {'name':emp_name},\n",
    "    {\n",
    "        '$set': {'address': emp_address},\n",
    "        '$currentDate': {'lastModified': True}\n",
    "    }\n",
    ")"
   ]
  },
  {
   "cell_type": "code",
   "execution_count": 14,
   "metadata": {},
   "outputs": [
    {
     "name": "stdout",
     "output_type": "stream",
     "text": [
      "Enter employee name that you would like to delete the document for: Lisa Brown\n",
      "Number of deleted record:  1\n"
     ]
    }
   ],
   "source": [
    "# Delete Operation\n",
    "# Delete a document\n",
    "# ask for input\n",
    "\n",
    "emp_name = input(\"Enter employee name that you would like to delete the document for: \")\n",
    "ret = db.delete_one({'name': emp_name})\n",
    "ret.deleted_count\n",
    "print('Number of deleted record: ', ret.deleted_count)\n"
   ]
  },
  {
   "cell_type": "code",
   "execution_count": 8,
   "metadata": {},
   "outputs": [],
   "source": [
    "# Close the conn to MongoDB\n",
    "conn.close()"
   ]
  },
  {
   "cell_type": "markdown",
   "metadata": {},
   "source": [
    "# Example  CRUD APP 2"
   ]
  },
  {
   "cell_type": "code",
   "execution_count": 15,
   "metadata": {},
   "outputs": [
    {
     "name": "stdout",
     "output_type": "stream",
     "text": [
      "Collection Names\n",
      "================\n",
      "books\n",
      "toh\n",
      "mycol\n",
      "myblog\n",
      "restaurant\n",
      "mycustomer\n",
      "items\n",
      "users\n",
      "books2\n",
      "mypost\n",
      "restaurants\n",
      "inventory\n",
      "products\n",
      "post\n",
      "dummy_collection\n",
      "myTestblog\n"
     ]
    },
    {
     "name": "stderr",
     "output_type": "stream",
     "text": [
      "C:\\ProgramData\\Anaconda3\\lib\\site-packages\\ipykernel_launcher.py:10: DeprecationWarning: collection_names is deprecated. Use list_collection_names instead.\n",
      "  # Remove the CWD from sys.path while we load stuff.\n"
     ]
    }
   ],
   "source": [
    "# READ Operation\n",
    "from pymongo import MongoClient\n",
    "client = MongoClient('mongodb://141.218.104.41:27017/')\n",
    "\n",
    "with client: \n",
    "    #print collection names\n",
    "    print('Collection Names')\n",
    "    print('================')\n",
    "    db = client.Razi\n",
    "    colnames = db.collection_names()\n",
    "    for names in colnames:\n",
    "        print(names)"
   ]
  },
  {
   "cell_type": "code",
   "execution_count": 15,
   "metadata": {},
   "outputs": [
    {
     "name": "stdout",
     "output_type": "stream",
     "text": [
      "\n",
      "restaurant Information\n",
      "=====================\n",
      "4 Sun Bakery Trattoria\n",
      "3 Blue Bagels Grill\n",
      "4 XYZ Bagels Restaurant\n",
      "4 Hot Bakery Cafe\n",
      "2 Green Feast Pizzeria\n",
      "0 ZZZ Pasta Buffet\n",
      "5 XYZ Coffee Bar\n",
      "0 456 Steak Restaurant\n",
      "4 456 Cookies Shop\n",
      "3 XYZ Steak Buffet\n"
     ]
    }
   ],
   "source": [
    "# Print sepecific restaurant meeting certain criteria\n",
    "db = client.Razi\n",
    "docs = db.restaurants.find()\n",
    "print()\n",
    "print('restaurant Information')\n",
    "print('=====================')\n",
    "for restaurant in docs:\n",
    "    print('{1} {0}'.format(restaurant['name'],\n",
    "                          restaurant['stars']))"
   ]
  },
  {
   "cell_type": "code",
   "execution_count": null,
   "metadata": {},
   "outputs": [],
   "source": []
  }
 ],
 "metadata": {
  "kernelspec": {
   "display_name": "Python 3",
   "language": "python",
   "name": "python3"
  },
  "language_info": {
   "codemirror_mode": {
    "name": "ipython",
    "version": 3
   },
   "file_extension": ".py",
   "mimetype": "text/x-python",
   "name": "python",
   "nbconvert_exporter": "python",
   "pygments_lexer": "ipython3",
   "version": "3.7.3"
  }
 },
 "nbformat": 4,
 "nbformat_minor": 2
}
